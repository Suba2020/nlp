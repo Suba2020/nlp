{
  "nbformat": 4,
  "nbformat_minor": 0,
  "metadata": {
    "colab": {
      "name": "BLEUDemo_learning.ipynb",
      "provenance": [],
      "include_colab_link": true
    },
    "kernelspec": {
      "name": "python3",
      "display_name": "Python 3"
    }
  },
  "cells": [
    {
      "cell_type": "markdown",
      "metadata": {
        "id": "view-in-github",
        "colab_type": "text"
      },
      "source": [
        "<a href=\"https://colab.research.google.com/github/Suba2020/nlp/blob/main/BLEUDemo_learning.ipynb\" target=\"_parent\"><img src=\"https://colab.research.google.com/assets/colab-badge.svg\" alt=\"Open In Colab\"/></a>"
      ]
    },
    {
      "cell_type": "code",
      "metadata": {
        "id": "eRFS852dK2QQ",
        "outputId": "e1453c86-3cc0-420b-f16d-5af582b56679",
        "colab": {
          "base_uri": "https://localhost:8080/"
        }
      },
      "source": [
        "# 4-gram cumulative BLEU\n",
        "import nltk\n",
        "from nltk.translate.bleu_score import sentence_bleu\n",
        "\n",
        "def test1():\n",
        "    reference = [['this', 'is', 'a', 'test']]\n",
        "    candidate = ['this', 'is', 'a', 'test']\n",
        "    score = sentence_bleu(reference, candidate, weights=(0.25, 0.25, 0.25, 0.25))\n",
        "    print(score)\n",
        "\n",
        "\n",
        "def test2():\n",
        "    reference = [['the', 'king', 'saw', 'a', 'rabbit']]\n",
        "    candidate = ['the', 'king', 'saw', 'two','rabbits','with','his','glasses']\n",
        "    score = sentence_bleu(reference, candidate, weights=(0.25, 0.25, 0.25, 0.25))\n",
        "    print(score)\n",
        "\n",
        "def test4():\n",
        "\n",
        "    candidate1 = [ 'It', 'is', 'a', 'guide', 'to', 'action', 'which', 'ensures', 'that', 'the', 'military', 'always', 'obeys', 'the',  'commands',  'of',    'the',  'party']\n",
        "    references = [['It', 'is', 'a', 'guide', 'to', 'action', 'that',  'ensures', 'that', 'the', 'military', 'will',   'for',   'ever', 'heed',      'Party', 'commands']]\n",
        "\n",
        "    score = sentence_bleu(references, candidate1,weights=(0, 1, 0, 0))\n",
        "    print(score)\n",
        "\n",
        "# ANLP assignment9 testing\n",
        "def test1_new_q10_v1():\n",
        "    reference = [['i', 'am', 'tired']] \n",
        "    candidate = ['exhausted', 'i', 'am']\n",
        "    score = sentence_bleu(reference, candidate, weights=(1, 0, 0, 0))\n",
        "    print(score)\n",
        "\n",
        "def test1_new_q10_v2_u():\n",
        "    reference = [['i', 'am', 'tired'],['i', 'am', 'exhausted']] \n",
        "    candidate = ['exhausted', 'i', 'am']\n",
        "    score = sentence_bleu(reference, candidate, weights=(1, 0, 0, 0))\n",
        "    print(score)\n",
        "\n",
        "def test1_new_q10_v2_b():\n",
        "    reference = [['i', 'am', 'tired'],['i', 'am', 'exhausted']] \n",
        "    candidate = ['exhausted', 'i', 'am']\n",
        "    score = sentence_bleu(reference, candidate, weights=(0, 1, 0, 0))\n",
        "    print(score)\n",
        "\n",
        "def test1_new_q10_v2_t():\n",
        "    reference = [['i', 'am', 'tired'],['i', 'am', 'exhausted']] \n",
        "    candidate = ['exhausted', 'i', 'am']\n",
        "    score = sentence_bleu(reference, candidate, weights=(0, 0, 1, 0))\n",
        "    print(score)\n",
        "\n",
        "test1_new_q10_v2_u()\n",
        "test1_new_q10_v2_b()\n",
        "test1_new_q10_v2_t()"
      ],
      "execution_count": null,
      "outputs": [
        {
          "output_type": "stream",
          "text": [
            "1.0\n",
            "0.5\n",
            "1.0\n"
          ],
          "name": "stdout"
        },
        {
          "output_type": "stream",
          "text": [
            "/usr/local/lib/python3.6/dist-packages/nltk/translate/bleu_score.py:490: UserWarning: \n",
            "Corpus/Sentence contains 0 counts of 3-gram overlaps.\n",
            "BLEU scores might be undesirable; use SmoothingFunction().\n",
            "  warnings.warn(_msg)\n"
          ],
          "name": "stderr"
        }
      ]
    }
  ]
}