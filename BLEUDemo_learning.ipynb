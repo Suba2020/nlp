# 4-gram cumulative BLEU
import nltk
from nltk.translate.bleu_score import sentence_bleu

def test1():
    reference = [['this', 'is', 'a', 'test']]
    candidate = ['this', 'is', 'a', 'test']
    score = sentence_bleu(reference, candidate, weights=(0.25, 0.25, 0.25, 0.25))
    print(score)

def test2():
    reference = [['the', 'king', 'saw', 'a', 'rabbit']]
    candidate = ['the', 'king', 'saw', 'two','rabbits','with','his','glasses']
    score = sentence_bleu(reference, candidate, weights=(0.25, 0.25, 0.25, 0.25))
    print(score)

def test4():

    candidate1 = [ 'It', 'is', 'a', 'guide', 'to', 'action', 'which', 'ensures', 'that', 'the', 'military', 'always', 'obeys', 'the',  'commands',  'of',    'the',  'party']
    references = [['It', 'is', 'a', 'guide', 'to', 'action', 'that',  'ensures', 'that', 'the', 'military', 'will',   'for',   'ever', 'heed',      'Party', 'commands']]

    score = sentence_bleu(references, candidate1,weights=(0, 1, 0, 0))
    print(score)

# ANLP assignment9 testing
def test1_new_q10_v1():
    reference = [['i', 'am', 'tired']] 
    candidate = ['exhausted', 'i', 'am']
    score = sentence_bleu(reference, candidate, weights=(1, 0, 0, 0))
    print(score)

def test1_new_q10_v2_u():
    reference = [['i', 'am', 'tired'],['i', 'am', 'exhausted']] 
    candidate = ['exhausted', 'i', 'am']
    score = sentence_bleu(reference, candidate, weights=(1, 0, 0, 0))
    print(score)

def test1_new_q10_v2_b():
    reference = [['i', 'am', 'tired'],['i', 'am', 'exhausted']] 
    candidate = ['exhausted', 'i', 'am']
    score = sentence_bleu(reference, candidate, weights=(0, 1, 0, 0))
    print(score)

def test1_new_q10_v2_t():
    reference = [['i', 'am', 'tired'],['i', 'am', 'exhausted']] 
    candidate = ['exhausted', 'i', 'am']
    score = sentence_bleu(reference, candidate, weights=(0, 0, 1, 0))
    print(score)

test1_new_q10_v2_u()
test1_new_q10_v2_b()
test1_new_q10_v2_t()
